{
 "cells": [
  {
   "cell_type": "code",
   "execution_count": 1,
   "metadata": {},
   "outputs": [],
   "source": [
    "import findspark\n",
    "import pyspark\n",
    "import pandas as pd\n",
    "import numpy as np\n",
    "import importlib\n",
    "import d6tstack\n",
    "\n",
    "\n",
    "xls = pd.ExcelFile('C:/Users/test-data/input/test-data-input-xls-jan_cg.xls')"
   ]
  },
  {
   "cell_type": "code",
   "execution_count": 3,
   "metadata": {},
   "outputs": [
    {
     "data": {
      "text/plain": [
       "<pandas.io.excel._base.ExcelFile at 0x1c041a78bc8>"
      ]
     },
     "execution_count": 3,
     "metadata": {},
     "output_type": "execute_result"
    }
   ],
   "source": [
    "xls"
   ]
  },
  {
   "cell_type": "code",
   "execution_count": 4,
   "metadata": {},
   "outputs": [
    {
     "data": {
      "text/plain": [
       "['Sheet1', 'Sheet2']"
      ]
     },
     "execution_count": 4,
     "metadata": {},
     "output_type": "execute_result"
    }
   ],
   "source": [
    "xls.sheet_names"
   ]
  },
  {
   "cell_type": "code",
   "execution_count": 5,
   "metadata": {},
   "outputs": [],
   "source": [
    "# to read all sheets to a map\n",
    "sheet_to_df_map = {}\n",
    "for sheet_name in xls.sheet_names:\n",
    "    sheet_to_df_map[sheet_name]= xls.parse(sheet_name)"
   ]
  },
  {
   "cell_type": "code",
   "execution_count": 6,
   "metadata": {},
   "outputs": [
    {
     "data": {
      "text/plain": [
       "{'Sheet1':    cost       date  profit  sales\n",
       " 0   -80 2011-01-01      20    100\n",
       " 1   -80 2011-01-02      20    100\n",
       " 2   -80 2011-01-03      20    100\n",
       " 3   -80 2011-01-04      20    100\n",
       " 4   -80 2011-01-05      20    100\n",
       " 5   -80 2011-01-06      20    100\n",
       " 6   -80 2011-01-07      20    100\n",
       " 7   -80 2011-01-08      20    100\n",
       " 8   -80 2011-01-09      20    100\n",
       " 9   -80 2011-01-10      20    100,\n",
       " 'Sheet2':    cost       date  profit  sales\n",
       " 0   -80 2011-01-11     120    200\n",
       " 1   -80 2011-01-12     120    200\n",
       " 2   -80 2011-01-13     120    200\n",
       " 3   -80 2011-01-14     120    200\n",
       " 4   -80 2011-01-15     120    200\n",
       " 5   -80 2011-01-16     120    200\n",
       " 6   -80 2011-01-17     120    200\n",
       " 7   -80 2011-01-18     120    200\n",
       " 8   -80 2011-01-19     120    200\n",
       " 9   -80 2011-01-20     120    200}"
      ]
     },
     "execution_count": 6,
     "metadata": {},
     "output_type": "execute_result"
    }
   ],
   "source": [
    "sheet_to_df_map"
   ]
  },
  {
   "cell_type": "code",
   "execution_count": 7,
   "metadata": {},
   "outputs": [
    {
     "name": "stdout",
     "output_type": "stream",
     "text": [
      "Sheet1    cost       date  profit  sales\n",
      "0   -80 2011-01-01      20    100\n",
      "1   -80 2011-01-02      20    100\n",
      "2   -80 2011-01-03      20    100\n",
      "3   -80 2011-01-04      20    100\n",
      "4   -80 2011-01-05      20    100\n",
      "5   -80 2011-01-06      20    100\n",
      "6   -80 2011-01-07      20    100\n",
      "7   -80 2011-01-08      20    100\n",
      "8   -80 2011-01-09      20    100\n",
      "9   -80 2011-01-10      20    100\n",
      "Sheet2    cost       date  profit  sales\n",
      "0   -80 2011-01-11     120    200\n",
      "1   -80 2011-01-12     120    200\n",
      "2   -80 2011-01-13     120    200\n",
      "3   -80 2011-01-14     120    200\n",
      "4   -80 2011-01-15     120    200\n",
      "5   -80 2011-01-16     120    200\n",
      "6   -80 2011-01-17     120    200\n",
      "7   -80 2011-01-18     120    200\n",
      "8   -80 2011-01-19     120    200\n",
      "9   -80 2011-01-20     120    200\n"
     ]
    }
   ],
   "source": [
    "#Print a dictionary line by line using for and dict.items()\n",
    "for key,value in sheet_to_df_map.items():\n",
    "    print(key, value)"
   ]
  },
  {
   "cell_type": "code",
   "execution_count": 8,
   "metadata": {},
   "outputs": [
    {
     "name": "stdout",
     "output_type": "stream",
     "text": [
      "Sheet1\n",
      "Sheet2\n"
     ]
    }
   ],
   "source": [
    "for key in sheet_to_df_map:\n",
    "    print(key)"
   ]
  },
  {
   "cell_type": "code",
   "execution_count": 9,
   "metadata": {},
   "outputs": [],
   "source": [
    "import csv\n",
    "\n",
    "with open('output_cg.csv', 'w+') as output:\n",
    "    writer = csv.writer(output)\n",
    "    for key, value in sheet_to_df_map.items():\n",
    "        writer.writerow([key, value])"
   ]
  },
  {
   "cell_type": "code",
   "execution_count": 10,
   "metadata": {},
   "outputs": [],
   "source": [
    "#Another way to copy contents of map or dict into a dataframe\n",
    "c1 = pd.DataFrame(sheet_to_df_map.items())"
   ]
  },
  {
   "cell_type": "code",
   "execution_count": 11,
   "metadata": {},
   "outputs": [],
   "source": [
    "c1.to_csv (r'C:/Users/export_data.csv')"
   ]
  },
  {
   "cell_type": "code",
   "execution_count": null,
   "metadata": {},
   "outputs": [],
   "source": []
  }
 ],
 "metadata": {
  "kernelspec": {
   "display_name": "Python 3",
   "language": "python",
   "name": "python3"
  },
  "language_info": {
   "codemirror_mode": {
    "name": "ipython",
    "version": 3
   },
   "file_extension": ".py",
   "mimetype": "text/x-python",
   "name": "python",
   "nbconvert_exporter": "python",
   "pygments_lexer": "ipython3",
   "version": "3.7.6"
  }
 },
 "nbformat": 4,
 "nbformat_minor": 4
}
